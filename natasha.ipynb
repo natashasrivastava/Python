{
    "cells": [
        {
            "metadata": {},
            "cell_type": "code",
            "source": "#Check Palindrome\n\ndef isPalindrome(s):\n    return s == s[::-1] \ns = input(\"Enter a string : \")\nans = isPalindrome(s)  \nif ans: \n    print(s + \" is a palindrome\") \nelse: \n    print(s + \" is not a palindrome\")\n",
            "execution_count": 7,
            "outputs": [
                {
                    "output_type": "stream",
                    "name": "stdout",
                    "text": "Enter a string :noon\nnoon is a palindrome\n"
                }
            ]
        },
        {
            "metadata": {},
            "cell_type": "code",
            "source": "#Remove duplicate word in a sentence\n\ns = input(\"Enter a sentence :\")\nl = s.split() \nk = [] \nfor i in l:  \n    if (s.count(i)>1 and (i not in k)or s.count(i)==1): \n        k.append(i) \nprint(' '.join(k)) ",
            "execution_count": 8,
            "outputs": [
                {
                    "output_type": "stream",
                    "name": "stdout",
                    "text": "Enter a sentence :code is code\ncode is\n"
                }
            ]
        },
        {
            "metadata": {},
            "cell_type": "code",
            "source": "# Python code to display number of vowels \ns = input(\"Enter a string: \")\ns.lower()\nfor i in s:\n    if(i=='a' or i=='e' or i=='i' or i=='o' or i=='u'):\n        print(i)",
            "execution_count": 7,
            "outputs": [
                {
                    "output_type": "stream",
                    "name": "stdout",
                    "text": "Enter a string: radhika\na\ni\na\n"
                }
            ]
        },
        {
            "metadata": {},
            "cell_type": "code",
            "source": "#to count number of sentences and words in a file\n\nfile = open(\"sample.txt\",\"r\") \nCounter = 0 \nContent = file.read() \nCoList = Content.split(\"\\n\") \nfor i in CoList: \n    if i: \n        Counter += 1          \nprint(\"This is the number of lines in the file\") \nprint(Counter)\nCounter=0\nCoList = Content.split() \nfor i in CoList: \n    if i: \n        Counter += 1          \nprint(\"This is the number of words in the file\") \nprint(Counter)",
            "execution_count": 15,
            "outputs": [
                {
                    "output_type": "error",
                    "ename": "FileNotFoundError",
                    "evalue": "[Errno 2] No such file or directory: 'sample.txt'",
                    "traceback": [
                        "\u001b[0;31m---------------------------------------------------------------------------\u001b[0m",
                        "\u001b[0;31mFileNotFoundError\u001b[0m                         Traceback (most recent call last)",
                        "\u001b[0;32m<ipython-input-15-7dcbf8053e79>\u001b[0m in \u001b[0;36m<module>\u001b[0;34m\u001b[0m\n\u001b[1;32m      1\u001b[0m \u001b[0;31m#to count number of sentences and words in a file\u001b[0m\u001b[0;34m\u001b[0m\u001b[0;34m\u001b[0m\u001b[0;34m\u001b[0m\u001b[0m\n\u001b[1;32m      2\u001b[0m \u001b[0;34m\u001b[0m\u001b[0m\n\u001b[0;32m----> 3\u001b[0;31m \u001b[0mfile\u001b[0m \u001b[0;34m=\u001b[0m \u001b[0mopen\u001b[0m\u001b[0;34m(\u001b[0m\u001b[0;34m\"sample.txt\"\u001b[0m\u001b[0;34m,\u001b[0m\u001b[0;34m\"r\"\u001b[0m\u001b[0;34m)\u001b[0m\u001b[0;34m\u001b[0m\u001b[0;34m\u001b[0m\u001b[0m\n\u001b[0m\u001b[1;32m      4\u001b[0m \u001b[0mCounter\u001b[0m \u001b[0;34m=\u001b[0m \u001b[0;36m0\u001b[0m\u001b[0;34m\u001b[0m\u001b[0;34m\u001b[0m\u001b[0m\n\u001b[1;32m      5\u001b[0m \u001b[0mContent\u001b[0m \u001b[0;34m=\u001b[0m \u001b[0mfile\u001b[0m\u001b[0;34m.\u001b[0m\u001b[0mread\u001b[0m\u001b[0;34m(\u001b[0m\u001b[0;34m)\u001b[0m\u001b[0;34m\u001b[0m\u001b[0;34m\u001b[0m\u001b[0m\n",
                        "\u001b[0;31mFileNotFoundError\u001b[0m: [Errno 2] No such file or directory: 'sample.txt'"
                    ]
                }
            ]
        },
        {
            "metadata": {},
            "cell_type": "code",
            "source": "",
            "execution_count": null,
            "outputs": []
        },
        {
            "metadata": {},
            "cell_type": "code",
            "source": "",
            "execution_count": null,
            "outputs": []
        },
        {
            "metadata": {},
            "cell_type": "code",
            "source": "",
            "execution_count": null,
            "outputs": []
        },
        {
            "metadata": {},
            "cell_type": "code",
            "source": "",
            "execution_count": null,
            "outputs": []
        }
    ],
    "metadata": {
        "kernelspec": {
            "name": "python3",
            "display_name": "Python 3.6",
            "language": "python"
        },
        "language_info": {
            "name": "python",
            "version": "3.6.9",
            "mimetype": "text/x-python",
            "codemirror_mode": {
                "name": "ipython",
                "version": 3
            },
            "pygments_lexer": "ipython3",
            "nbconvert_exporter": "python",
            "file_extension": ".py"
        }
    },
    "nbformat": 4,
    "nbformat_minor": 1
}